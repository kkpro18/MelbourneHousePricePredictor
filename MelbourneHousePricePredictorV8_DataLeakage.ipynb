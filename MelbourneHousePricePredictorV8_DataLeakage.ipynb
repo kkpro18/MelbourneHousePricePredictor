{
 "cells": [
  {
   "cell_type": "code",
   "id": "initial_id",
   "metadata": {
    "collapsed": true,
    "ExecuteTime": {
     "end_time": "2024-05-03T23:21:40.953507Z",
     "start_time": "2024-05-03T23:21:37.775055Z"
    }
   },
   "source": "import pandas as pd",
   "outputs": [],
   "execution_count": 1
  },
  {
   "metadata": {
    "ExecuteTime": {
     "end_time": "2024-05-03T23:21:41.217900Z",
     "start_time": "2024-05-03T23:21:40.962512Z"
    }
   },
   "cell_type": "code",
   "source": "melbourne_data = pd.read_csv(\"melb_data.csv\")",
   "id": "f1361a4b36b807ce",
   "outputs": [],
   "execution_count": 2
  },
  {
   "metadata": {
    "ExecuteTime": {
     "end_time": "2024-05-03T23:21:41.240152Z",
     "start_time": "2024-05-03T23:21:41.222911Z"
    }
   },
   "cell_type": "code",
   "source": "predictor_columns = ['Rooms', 'Distance', 'Landsize', 'BuildingArea', 'YearBuilt']",
   "id": "c7f02ed997572ae4",
   "outputs": [],
   "execution_count": 3
  },
  {
   "metadata": {
    "ExecuteTime": {
     "end_time": "2024-05-03T23:21:41.287731Z",
     "start_time": "2024-05-03T23:21:41.249162Z"
    }
   },
   "cell_type": "code",
   "source": [
    "x = melbourne_data[predictor_columns]\n",
    "y = melbourne_data.Price # our target - what we try to predict"
   ],
   "id": "c5458255b333db8d",
   "outputs": [],
   "execution_count": 4
  },
  {
   "metadata": {
    "ExecuteTime": {
     "end_time": "2024-05-03T23:21:47.123935Z",
     "start_time": "2024-05-03T23:21:41.298736Z"
    }
   },
   "cell_type": "code",
   "source": [
    "from sklearn.model_selection import train_test_split\n",
    "\n",
    "x_train, x_test, y_train, y_test = train_test_split(x, y)"
   ],
   "id": "ed12e2626619fcc2",
   "outputs": [],
   "execution_count": 5
  },
  {
   "metadata": {
    "ExecuteTime": {
     "end_time": "2024-05-03T23:21:47.583666Z",
     "start_time": "2024-05-03T23:21:47.130355Z"
    }
   },
   "cell_type": "code",
   "source": [
    "from sklearn.impute import SimpleImputer\n",
    "column_imputer = SimpleImputer()\n",
    "imputed_x_train = pd.DataFrame(column_imputer.fit_transform(x_train))\n",
    "imputed_x_test = pd.DataFrame(column_imputer.transform(x_test))\n",
    "# now put these column names back into these imputed data as imputation leaves column names removed\n",
    "imputed_x_train.columns = x_train.columns\n",
    "imputed_x_test.columns = x_test.columns\n",
    "x_train = imputed_x_train\n",
    "x_test = imputed_x_test"
   ],
   "id": "4b8966b923a5561b",
   "outputs": [],
   "execution_count": 6
  },
  {
   "metadata": {
    "ExecuteTime": {
     "end_time": "2024-05-03T23:21:47.621052Z",
     "start_time": "2024-05-03T23:21:47.591674Z"
    }
   },
   "cell_type": "code",
   "source": [
    "categorical_variables_names = (x_train.dtypes == 'object') # selects the other data type\n",
    "categorical_variables_names = list(categorical_variables_names[categorical_variables_names].index)"
   ],
   "id": "c6bb686181fd0735",
   "outputs": [],
   "execution_count": 7
  },
  {
   "metadata": {
    "ExecuteTime": {
     "end_time": "2024-05-03T23:21:47.667709Z",
     "start_time": "2024-05-03T23:21:47.630059Z"
    }
   },
   "cell_type": "code",
   "source": [
    "from sklearn.preprocessing import OrdinalEncoder\n",
    "\n",
    "OE_x_train = x_train.copy()\n",
    "OE_x_test = x_test.copy()\n",
    "OE = OrdinalEncoder()\n",
    "\n",
    "OE_x_train[categorical_variables_names] = OE.fit_transform(OE_x_train[categorical_variables_names])\n",
    "OE_x_test[categorical_variables_names] = OE.transform(OE_x_test[categorical_variables_names])\n",
    "x_train = OE_x_train\n",
    "x_test = OE_x_test"
   ],
   "id": "c6bd829a304ae067",
   "outputs": [],
   "execution_count": 8
  },
  {
   "metadata": {},
   "cell_type": "markdown",
   "source": [
    "XGBoost Modelling:\n",
    "Naive Model -> Make Predictions -> Calculate Loss (MAE) -> Train New Model -> Add new model to the ensemble -> repeat from step 2"
   ],
   "id": "d3bd6165bbec5e85"
  },
  {
   "metadata": {
    "ExecuteTime": {
     "end_time": "2024-05-03T23:21:55.807225Z",
     "start_time": "2024-05-03T23:21:55.804229Z"
    }
   },
   "cell_type": "code",
   "source": [
    "from sklearn.metrics import mean_absolute_error\n",
    "from xgboost import XGBRegressor\n",
    "\n",
    "XGB_Regressor = XGBRegressor(n_estimators=1000, learning_rate=0.05)\n",
    "XGB_Regressor.fit(x_train, y_train, early_stopping_rounds=5, eval_set = [(x_test, y_test)], verbose = False)\n",
    "predictions = XGB_Regressor.predict(x_test)\n",
    "MAE_result = mean_absolute_error(y_test, predictions)\n",
    "print(\"The MAE when using XBG Boost: \", MAE_result)"
   ],
   "id": "c387b0530560bbfa",
   "outputs": [],
   "execution_count": null
  },
  {
   "metadata": {},
   "cell_type": "markdown",
   "source": [
    "## Data Leakage is Dangerous\n",
    "Data Leakage is when your training data contains details about the target which may not be available in real life application.\n",
    "\n",
    "There are two types of Data Leakage:\n",
    "\n",
    "Target Leakage:—When Predictors include information that will not be available in real life scenario or even have features ordered differently to real life data. For example we want to predict who has a disease, we have x,y,z data and also a further column which states takes X medicine. This is an event that will happen post-disease diagnosis, henceforth will not be available in prediction stage, thereby should be excluded.\n",
    "Train-Test Contamination: - When preprocessing is accidentally applied before train_test_split, resulting in the pre-processing to make the model behave good although it is not tested with the proper data we intended. To fix this, use pipelines.\n",
    "\n"
   ],
   "id": "4ee24d8f1ac0f78c"
  },
  {
   "metadata": {},
   "cell_type": "markdown",
   "source": [
    "Solution is to drop the potential leakage columns, better safe than sorry\n",
    "## Also ALTHOUGH the MAE score may look good with the leakage columns it will perform poorly in real life"
   ],
   "id": "ba5231c975aa0643"
  },
  {
   "metadata": {},
   "cell_type": "code",
   "source": "`",
   "id": "80296d1757074e23",
   "outputs": [],
   "execution_count": null
  }
 ],
 "metadata": {
  "kernelspec": {
   "display_name": "Python 3",
   "language": "python",
   "name": "python3"
  },
  "language_info": {
   "codemirror_mode": {
    "name": "ipython",
    "version": 2
   },
   "file_extension": ".py",
   "mimetype": "text/x-python",
   "name": "python",
   "nbconvert_exporter": "python",
   "pygments_lexer": "ipython2",
   "version": "2.7.6"
  }
 },
 "nbformat": 4,
 "nbformat_minor": 5
}
