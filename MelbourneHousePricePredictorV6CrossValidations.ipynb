{
 "cells": [
  {
   "cell_type": "code",
   "id": "initial_id",
   "metadata": {
    "collapsed": true,
    "ExecuteTime": {
     "end_time": "2024-04-30T01:46:53.543762Z",
     "start_time": "2024-04-30T01:46:53.519039Z"
    }
   },
   "source": "import pandas as pd",
   "outputs": [],
   "execution_count": 23
  },
  {
   "metadata": {
    "ExecuteTime": {
     "end_time": "2024-04-30T01:46:54.701463Z",
     "start_time": "2024-04-30T01:46:54.355385Z"
    }
   },
   "cell_type": "code",
   "source": "melbourne_data = pd.read_csv(\"melb_data.csv\")",
   "id": "f1361a4b36b807ce",
   "outputs": [],
   "execution_count": 24
  },
  {
   "metadata": {
    "ExecuteTime": {
     "end_time": "2024-04-30T01:46:54.727073Z",
     "start_time": "2024-04-30T01:46:54.711470Z"
    }
   },
   "cell_type": "code",
   "source": "predictor_columns = ['Rooms', 'Distance', 'Landsize', 'BuildingArea', 'YearBuilt']",
   "id": "c7f02ed997572ae4",
   "outputs": [],
   "execution_count": 25
  },
  {
   "metadata": {
    "ExecuteTime": {
     "end_time": "2024-04-30T01:46:54.929132Z",
     "start_time": "2024-04-30T01:46:54.907980Z"
    }
   },
   "cell_type": "code",
   "source": [
    "x = melbourne_data[predictor_columns]\n",
    "y = melbourne_data.Price # our target - what we try to predict"
   ],
   "id": "c5458255b333db8d",
   "outputs": [],
   "execution_count": 26
  },
  {
   "metadata": {},
   "cell_type": "markdown",
   "source": "It can be seen there exists both missing values and categorical data, lets use pipelines to effectively process this.",
   "id": "1a8cb70575d3ede7"
  },
  {
   "metadata": {
    "ExecuteTime": {
     "end_time": "2024-04-30T01:46:55.166973Z",
     "start_time": "2024-04-30T01:46:55.154698Z"
    }
   },
   "cell_type": "code",
   "source": [
    "from sklearn.pipeline import Pipeline\n",
    "from sklearn.impute import SimpleImputer\n",
    "from sklearn.ensemble import RandomForestRegressor"
   ],
   "id": "713a42127911a74b",
   "outputs": [],
   "execution_count": 27
  },
  {
   "metadata": {
    "ExecuteTime": {
     "end_time": "2024-04-30T01:46:55.365830Z",
     "start_time": "2024-04-30T01:46:55.351226Z"
    }
   },
   "cell_type": "code",
   "source": [
    "# Bundles the pre-processing code and modelling code into a pipeline\n",
    "pre_processing_pipeline = Pipeline(steps=[\n",
    "    ('preprocessor', SimpleImputer()),\n",
    "    ('model', RandomForestRegressor(n_estimators=50, random_state=18))\n",
    "])"
   ],
   "id": "4a4fe99362c4b6a5",
   "outputs": [],
   "execution_count": 28
  },
  {
   "metadata": {},
   "cell_type": "markdown",
   "source": [
    "## Cross Validation\n",
    "Divides data into sections e.g 1,2,3,4,5\n",
    "The Validation is set to 1, and remaining sections are used to fit model.\n",
    "Then it goes to 2, 3, 4, and 5. This allows for entire data and comprehensive coverage of data for our model.\n",
    "If testing takes a few minutes or less use cross-validation. If the scores are similar to single validation testing, then use single validation for efficiency."
   ],
   "id": "bd781c3c00f36f18"
  },
  {
   "metadata": {
    "ExecuteTime": {
     "end_time": "2024-04-30T01:47:37.894135Z",
     "start_time": "2024-04-30T01:46:55.538741Z"
    }
   },
   "cell_type": "code",
   "source": [
    "from sklearn.model_selection import cross_val_score\n",
    "\n",
    "MAE_scores = -1 * cross_val_score(pre_processing_pipeline, x, y, cv=5, scoring=\"neg_mean_absolute_error\")\n",
    "print(\"Mean Absolute Error:\\n\", MAE_scores)\n",
    "# to compare the models, we use negative mae score as the cross_val_score prioritises a high score, and by using neg MAE we are consistent"
   ],
   "id": "b2002fdd36c009a4",
   "outputs": [
    {
     "name": "stdout",
     "output_type": "stream",
     "text": [
      "Mean Absolute Error:\n",
      " [301780.08638914 301967.96360967 285364.52999943 233533.01993951\n",
      " 259461.85566795]\n"
     ]
    }
   ],
   "execution_count": 29
  },
  {
   "metadata": {
    "ExecuteTime": {
     "end_time": "2024-04-30T01:47:37.924770Z",
     "start_time": "2024-04-30T01:47:37.903142Z"
    }
   },
   "cell_type": "code",
   "source": "print(f\"Average MAE Score {MAE_scores.mean()}\")",
   "id": "be8b5685e9d5324c",
   "outputs": [
    {
     "name": "stdout",
     "output_type": "stream",
     "text": [
      "Average MAE Score 276421.491121143\n"
     ]
    }
   ],
   "execution_count": 30
  },
  {
   "metadata": {
    "ExecuteTime": {
     "end_time": "2024-04-30T01:47:58.805268Z",
     "start_time": "2024-04-30T01:47:37.933777Z"
    }
   },
   "cell_type": "code",
   "source": [
    "def get_score(n_estimators):\n",
    "    fit_pipeline = Pipeline(steps=[\n",
    "    ('preprocessor', SimpleImputer()),\n",
    "    ('model', RandomForestRegressor(n_estimators=n_estimators, random_state=0))\n",
    "    ])\n",
    "    scores = -1 * cross_val_score(fit_pipeline, x, y, cv=3, scoring='neg_mean_absolute_error')\n",
    "    return scores.mean()"
   ],
   "id": "3901b12cc3df62f7",
   "outputs": [
    {
     "data": {
      "text/plain": [
       "294846.1550120387"
      ]
     },
     "execution_count": 31,
     "metadata": {},
     "output_type": "execute_result"
    }
   ],
   "execution_count": 31
  },
  {
   "metadata": {
    "jupyter": {
     "is_executing": true
    },
    "ExecuteTime": {
     "start_time": "2024-04-30T01:47:58.823273Z"
    }
   },
   "cell_type": "code",
   "source": [
    "results = {}\n",
    "for n_estimator in range (50,450,50):\n",
    "    results.update({n_estimator: get_score(n_estimator)})"
   ],
   "id": "1406a90bc25c8f95",
   "outputs": [],
   "execution_count": null
  },
  {
   "metadata": {},
   "cell_type": "markdown",
   "source": "## Using Matplotlib for plotting the n_estimators against the mean absolute value",
   "id": "87b5405c5cf5c455"
  },
  {
   "metadata": {
    "jupyter": {
     "is_executing": true
    }
   },
   "cell_type": "code",
   "source": [
    "import matplotlib.pyplot as plt\n",
    "\n",
    "plt.plot(list(results.keys()), list(results.values()))\n",
    "plt.show()"
   ],
   "id": "47315da886675006",
   "outputs": [],
   "execution_count": null
  },
  {
   "metadata": {},
   "cell_type": "markdown",
   "source": "## Using seaborn for plotting the n_estimators against the mean absolute value",
   "id": "a96dd5684a22347"
  },
  {
   "metadata": {
    "jupyter": {
     "is_executing": true
    }
   },
   "cell_type": "code",
   "source": [
    "import seaborn\n",
    "data = pd.DataFrame(list(results.keys()), list(results.values()))\n",
    "seaborn.lineplot(data, x=list(results.keys()), y=list(results.values()))"
   ],
   "id": "d83dd5976454985f",
   "outputs": [],
   "execution_count": null
  },
  {
   "metadata": {},
   "cell_type": "markdown",
   "source": "This shows the best number of n_estimators should be 400 as it gives the least MAE.",
   "id": "882349357da67640"
  },
  {
   "metadata": {
    "jupyter": {
     "is_executing": true
    }
   },
   "cell_type": "code",
   "source": "",
   "id": "adc47a1d51a0bce1",
   "outputs": [],
   "execution_count": null
  }
 ],
 "metadata": {
  "kernelspec": {
   "display_name": "Python 3",
   "language": "python",
   "name": "python3"
  },
  "language_info": {
   "codemirror_mode": {
    "name": "ipython",
    "version": 2
   },
   "file_extension": ".py",
   "mimetype": "text/x-python",
   "name": "python",
   "nbconvert_exporter": "python",
   "pygments_lexer": "ipython2",
   "version": "2.7.6"
  }
 },
 "nbformat": 4,
 "nbformat_minor": 5
}
