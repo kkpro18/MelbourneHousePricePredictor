{
 "cells": [
  {
   "cell_type": "code",
   "id": "initial_id",
   "metadata": {
    "collapsed": true,
    "ExecuteTime": {
     "end_time": "2024-04-30T00:14:43.655036Z",
     "start_time": "2024-04-30T00:14:43.637464Z"
    }
   },
   "source": "import pandas as pd",
   "outputs": [],
   "execution_count": 19
  },
  {
   "metadata": {
    "ExecuteTime": {
     "end_time": "2024-04-30T00:14:44.390490Z",
     "start_time": "2024-04-30T00:14:43.914025Z"
    }
   },
   "cell_type": "code",
   "source": "melbourne_data = pd.read_csv(\"melb_data.csv\")",
   "id": "f1361a4b36b807ce",
   "outputs": [],
   "execution_count": 20
  },
  {
   "metadata": {
    "ExecuteTime": {
     "end_time": "2024-04-30T00:14:44.499458Z",
     "start_time": "2024-04-30T00:14:44.420489Z"
    }
   },
   "cell_type": "code",
   "source": [
    "y = melbourne_data.Price # our target - what we try to predict\n",
    "x = melbourne_data.drop(['Price'], axis=1) # all features except price (our predictor)"
   ],
   "id": "c5458255b333db8d",
   "outputs": [],
   "execution_count": 21
  },
  {
   "metadata": {
    "ExecuteTime": {
     "end_time": "2024-04-30T00:14:44.649504Z",
     "start_time": "2024-04-30T00:14:44.510452Z"
    }
   },
   "cell_type": "code",
   "source": [
    "from sklearn.model_selection import train_test_split\n",
    "x_train, x_test, y_train, y_test = train_test_split(x, y, test_size=0.2, random_state=18)"
   ],
   "id": "ade0bd60356d1ca3",
   "outputs": [],
   "execution_count": 22
  },
  {
   "metadata": {
    "ExecuteTime": {
     "end_time": "2024-04-30T00:14:44.862445Z",
     "start_time": "2024-04-30T00:14:44.674033Z"
    }
   },
   "cell_type": "code",
   "source": [
    "# cardinality means number of unique values in a column\n",
    "low_cardinality_columns = []\n",
    "for column in x_train.columns:\n",
    "    if x_train[column].nunique() < 10 and x_train[column].dtype == \"object\":\n",
    "        low_cardinality_columns.append(column)\n",
    "# adds columns with unique number values less than 10"
   ],
   "id": "b9db8fc25bf24671",
   "outputs": [],
   "execution_count": 23
  },
  {
   "metadata": {
    "ExecuteTime": {
     "end_time": "2024-04-30T00:14:44.894527Z",
     "start_time": "2024-04-30T00:14:44.873012Z"
    }
   },
   "cell_type": "code",
   "source": [
    "numerical_columns = []\n",
    "for column in x_train.columns:\n",
    "    if x_train[column].dtype in ['float64', 'int64']:\n",
    "        numerical_columns.append(column)"
   ],
   "id": "573f2c79a361de01",
   "outputs": [],
   "execution_count": 24
  },
  {
   "metadata": {
    "ExecuteTime": {
     "end_time": "2024-04-30T00:14:44.966013Z",
     "start_time": "2024-04-30T00:14:44.906534Z"
    }
   },
   "cell_type": "code",
   "source": [
    "# combine only these two types of data in our data\n",
    "data = low_cardinality_columns + numerical_columns\n",
    "x_train = x_train[data].copy()\n",
    "x_test = x_test[data].copy()"
   ],
   "id": "f0ede9cf9d6b3733",
   "outputs": [],
   "execution_count": 25
  },
  {
   "metadata": {
    "ExecuteTime": {
     "end_time": "2024-04-30T00:14:45.216303Z",
     "start_time": "2024-04-30T00:14:45.044492Z"
    }
   },
   "cell_type": "code",
   "source": "x_train.head()",
   "id": "4e02c8e7a65b0aae",
   "outputs": [
    {
     "data": {
      "text/plain": [
       "      Type Method             Regionname  Rooms  Distance  Postcode  Bedroom2  \\\n",
       "2454     u     SP   Western Metropolitan      2       8.0    3040.0       2.0   \n",
       "13030    h      S       Eastern Victoria      3      31.6    3796.0       3.0   \n",
       "5490     h     PI   Western Metropolitan      3       6.6    3011.0       3.0   \n",
       "2796     h     PI  Southern Metropolitan      5       9.2    3146.0       5.0   \n",
       "12271    h      S   Eastern Metropolitan      3      23.0    3136.0       3.0   \n",
       "\n",
       "       Bathroom  Car  Landsize  BuildingArea  YearBuilt  Lattitude  \\\n",
       "2454        1.0  1.0     170.0          88.0     1994.0  -37.74750   \n",
       "13030       1.0  0.0     915.0         101.0     1970.0  -37.78495   \n",
       "5490        3.0  2.0     227.0         211.0     2015.0  -37.80330   \n",
       "2796        3.0  1.0     696.0         248.0     1920.0  -37.85630   \n",
       "12271       2.0  1.0    1007.0         250.0     1980.0  -37.76653   \n",
       "\n",
       "       Longtitude  Propertycount  \n",
       "2454    144.89590         9264.0  \n",
       "13030   145.39190         3532.0  \n",
       "5490    144.88970         2417.0  \n",
       "2796    145.07090        10412.0  \n",
       "12271   145.29163         2985.0  "
      ],
      "text/html": [
       "<div>\n",
       "<style scoped>\n",
       "    .dataframe tbody tr th:only-of-type {\n",
       "        vertical-align: middle;\n",
       "    }\n",
       "\n",
       "    .dataframe tbody tr th {\n",
       "        vertical-align: top;\n",
       "    }\n",
       "\n",
       "    .dataframe thead th {\n",
       "        text-align: right;\n",
       "    }\n",
       "</style>\n",
       "<table border=\"1\" class=\"dataframe\">\n",
       "  <thead>\n",
       "    <tr style=\"text-align: right;\">\n",
       "      <th></th>\n",
       "      <th>Type</th>\n",
       "      <th>Method</th>\n",
       "      <th>Regionname</th>\n",
       "      <th>Rooms</th>\n",
       "      <th>Distance</th>\n",
       "      <th>Postcode</th>\n",
       "      <th>Bedroom2</th>\n",
       "      <th>Bathroom</th>\n",
       "      <th>Car</th>\n",
       "      <th>Landsize</th>\n",
       "      <th>BuildingArea</th>\n",
       "      <th>YearBuilt</th>\n",
       "      <th>Lattitude</th>\n",
       "      <th>Longtitude</th>\n",
       "      <th>Propertycount</th>\n",
       "    </tr>\n",
       "  </thead>\n",
       "  <tbody>\n",
       "    <tr>\n",
       "      <th>2454</th>\n",
       "      <td>u</td>\n",
       "      <td>SP</td>\n",
       "      <td>Western Metropolitan</td>\n",
       "      <td>2</td>\n",
       "      <td>8.0</td>\n",
       "      <td>3040.0</td>\n",
       "      <td>2.0</td>\n",
       "      <td>1.0</td>\n",
       "      <td>1.0</td>\n",
       "      <td>170.0</td>\n",
       "      <td>88.0</td>\n",
       "      <td>1994.0</td>\n",
       "      <td>-37.74750</td>\n",
       "      <td>144.89590</td>\n",
       "      <td>9264.0</td>\n",
       "    </tr>\n",
       "    <tr>\n",
       "      <th>13030</th>\n",
       "      <td>h</td>\n",
       "      <td>S</td>\n",
       "      <td>Eastern Victoria</td>\n",
       "      <td>3</td>\n",
       "      <td>31.6</td>\n",
       "      <td>3796.0</td>\n",
       "      <td>3.0</td>\n",
       "      <td>1.0</td>\n",
       "      <td>0.0</td>\n",
       "      <td>915.0</td>\n",
       "      <td>101.0</td>\n",
       "      <td>1970.0</td>\n",
       "      <td>-37.78495</td>\n",
       "      <td>145.39190</td>\n",
       "      <td>3532.0</td>\n",
       "    </tr>\n",
       "    <tr>\n",
       "      <th>5490</th>\n",
       "      <td>h</td>\n",
       "      <td>PI</td>\n",
       "      <td>Western Metropolitan</td>\n",
       "      <td>3</td>\n",
       "      <td>6.6</td>\n",
       "      <td>3011.0</td>\n",
       "      <td>3.0</td>\n",
       "      <td>3.0</td>\n",
       "      <td>2.0</td>\n",
       "      <td>227.0</td>\n",
       "      <td>211.0</td>\n",
       "      <td>2015.0</td>\n",
       "      <td>-37.80330</td>\n",
       "      <td>144.88970</td>\n",
       "      <td>2417.0</td>\n",
       "    </tr>\n",
       "    <tr>\n",
       "      <th>2796</th>\n",
       "      <td>h</td>\n",
       "      <td>PI</td>\n",
       "      <td>Southern Metropolitan</td>\n",
       "      <td>5</td>\n",
       "      <td>9.2</td>\n",
       "      <td>3146.0</td>\n",
       "      <td>5.0</td>\n",
       "      <td>3.0</td>\n",
       "      <td>1.0</td>\n",
       "      <td>696.0</td>\n",
       "      <td>248.0</td>\n",
       "      <td>1920.0</td>\n",
       "      <td>-37.85630</td>\n",
       "      <td>145.07090</td>\n",
       "      <td>10412.0</td>\n",
       "    </tr>\n",
       "    <tr>\n",
       "      <th>12271</th>\n",
       "      <td>h</td>\n",
       "      <td>S</td>\n",
       "      <td>Eastern Metropolitan</td>\n",
       "      <td>3</td>\n",
       "      <td>23.0</td>\n",
       "      <td>3136.0</td>\n",
       "      <td>3.0</td>\n",
       "      <td>2.0</td>\n",
       "      <td>1.0</td>\n",
       "      <td>1007.0</td>\n",
       "      <td>250.0</td>\n",
       "      <td>1980.0</td>\n",
       "      <td>-37.76653</td>\n",
       "      <td>145.29163</td>\n",
       "      <td>2985.0</td>\n",
       "    </tr>\n",
       "  </tbody>\n",
       "</table>\n",
       "</div>"
      ]
     },
     "execution_count": 26,
     "metadata": {},
     "output_type": "execute_result"
    }
   ],
   "execution_count": 26
  },
  {
   "metadata": {},
   "cell_type": "markdown",
   "source": "It can be seen there exists both missing values and categorical data, lets use pipelines to effectively process this.",
   "id": "1a8cb70575d3ede7"
  },
  {
   "metadata": {
    "ExecuteTime": {
     "end_time": "2024-04-30T00:14:45.334271Z",
     "start_time": "2024-04-30T00:14:45.317740Z"
    }
   },
   "cell_type": "code",
   "source": [
    "from sklearn.compose import ColumnTransformer\n",
    "from sklearn.pipeline import Pipeline\n",
    "from sklearn.impute import SimpleImputer\n",
    "from sklearn.preprocessing import OneHotEncoder"
   ],
   "id": "713a42127911a74b",
   "outputs": [],
   "execution_count": 27
  },
  {
   "metadata": {
    "ExecuteTime": {
     "end_time": "2024-04-30T00:14:45.531338Z",
     "start_time": "2024-04-30T00:14:45.506369Z"
    }
   },
   "cell_type": "code",
   "source": [
    "# Pre-processing for numerical data\n",
    "numerical_processor = SimpleImputer(strategy='constant')\n",
    "\n",
    "# Pre-processing for categorical data\n",
    "categorical_processor = Pipeline(steps=[\n",
    "    ('imputer', SimpleImputer(strategy='most_frequent')),\n",
    "    ('onehot', OneHotEncoder(handle_unknown='ignore', sparse_output=False))\n",
    "])\n",
    "# Bundle the pre-processing steps for numerical and categorical\n",
    "pre_processor = ColumnTransformer(\n",
    "    transformers=[\n",
    "        ('num', numerical_processor, numerical_columns),\n",
    "        ('cat', categorical_processor, low_cardinality_columns)\n",
    "    ]\n",
    ")"
   ],
   "id": "ca6475867b5e57dd",
   "outputs": [],
   "execution_count": 28
  },
  {
   "metadata": {
    "ExecuteTime": {
     "end_time": "2024-04-30T00:14:45.790442Z",
     "start_time": "2024-04-30T00:14:45.771879Z"
    }
   },
   "cell_type": "code",
   "source": [
    "from sklearn.ensemble import RandomForestRegressor\n",
    "\n",
    "RF_Model = RandomForestRegressor(n_estimators=100, random_state=18) # Created Random Forest Model"
   ],
   "id": "483015f565655ab5",
   "outputs": [],
   "execution_count": 29
  },
  {
   "metadata": {
    "ExecuteTime": {
     "end_time": "2024-04-30T00:15:28.641553Z",
     "start_time": "2024-04-30T00:14:46.061346Z"
    }
   },
   "cell_type": "code",
   "source": [
    "from sklearn.metrics import mean_absolute_error\n",
    "# Bundles the pre-processing code and modelling code into a pipeline\n",
    "pre_processing_pipeline = Pipeline(steps=[\n",
    "    ('preprocessor', pre_processor),\n",
    "    ('model', RF_Model)\n",
    "])\n",
    "\n",
    "# pre-processes the training data and fits to a model\n",
    "pre_processing_pipeline.fit(x_train, y_train)\n",
    "prediction = pre_processing_pipeline.predict(x_test)\n",
    "MAE_score = mean_absolute_error(y_test, prediction)\n",
    "\n",
    "print(f\"The Mean Absolute Error for the testing data is {MAE_score}\")"
   ],
   "id": "4a4fe99362c4b6a5",
   "outputs": [
    {
     "name": "stdout",
     "output_type": "stream",
     "text": [
      "The Mean Absolute Error for the testing data is 164637.00742688827\n"
     ]
    }
   ],
   "execution_count": 30
  },
  {
   "metadata": {
    "ExecuteTime": {
     "end_time": "2024-04-30T00:15:28.675518Z",
     "start_time": "2024-04-30T00:15:28.656556Z"
    }
   },
   "cell_type": "code",
   "source": "",
   "id": "b2002fdd36c009a4",
   "outputs": [],
   "execution_count": 30
  }
 ],
 "metadata": {
  "kernelspec": {
   "display_name": "Python 3",
   "language": "python",
   "name": "python3"
  },
  "language_info": {
   "codemirror_mode": {
    "name": "ipython",
    "version": 2
   },
   "file_extension": ".py",
   "mimetype": "text/x-python",
   "name": "python",
   "nbconvert_exporter": "python",
   "pygments_lexer": "ipython2",
   "version": "2.7.6"
  }
 },
 "nbformat": 4,
 "nbformat_minor": 5
}
